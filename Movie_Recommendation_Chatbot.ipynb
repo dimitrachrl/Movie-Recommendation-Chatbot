{
  "nbformat": 4,
  "nbformat_minor": 0,
  "metadata": {
    "colab": {
      "provenance": []
    },
    "kernelspec": {
      "name": "python3",
      "display_name": "Python 3"
    },
    "language_info": {
      "name": "python"
    }
  },
  "cells": [
    {
      "cell_type": "code",
      "source": [
        "#import libraries\n",
        "import random\n",
        "import requests"
      ],
      "metadata": {
        "id": "swdY4NhGnbv5"
      },
      "execution_count": 4,
      "outputs": []
    },
    {
      "cell_type": "code",
      "execution_count": 5,
      "metadata": {
        "id": "PQMwBtkml55Y"
      },
      "outputs": [],
      "source": [
        "#Fetches movie recommendations API\n",
        "def fetch_movie_recommendations(genre):\n",
        "    API_KEY = 'b44d2af21c89c0209da21eddff7d60e0'\n",
        "    url = f'https://api.themoviedb.org/3/discover/movie?api_key={API_KEY}&with_genres={genre}'\n",
        "    \n",
        "    response = requests.get(url)\n",
        "    if response.status_code == 200:\n",
        "        data = response.json()\n",
        "        movies = data['results']\n",
        "        return movies[:5]  # Returns the top 5 recommended movies\n",
        "    else:\n",
        "        return None\n"
      ]
    },
    {
      "cell_type": "code",
      "source": [
        "#Generate a random greeting \n",
        "def get_random_greeting():\n",
        "    greetings = ['Hi!', 'Hello!', 'Hey there!', 'Greetings!']\n",
        "    return random.choice(greetings)\n"
      ],
      "metadata": {
        "id": "XNqAYUmYn2rB"
      },
      "execution_count": 6,
      "outputs": []
    },
    {
      "cell_type": "code",
      "source": [
        "#Handles user input and provides movie recommendations\n",
        "def process_user_input(user_input):\n",
        "    # Check user input for specific genres, actors, or moods and extract relevant information\n",
        "    \n",
        "    # Fetch movie recommendations based on user preferences\n",
        "    genre = '28'  \n",
        "    recommendations = fetch_movie_recommendations(genre)\n",
        "    \n",
        "    if recommendations:\n",
        "        response = \"Here are some movie recommendations for you:\\n\\n\"\n",
        "        for movie in recommendations:\n",
        "            title = movie['title']\n",
        "            overview = movie['overview']\n",
        "            response += f\"Title: {title}\\nOverview: {overview}\\n\\n\"\n",
        "    else:\n",
        "        response = \"Sorry, I couldn't fetch any movie recommendations at the moment.\"\n",
        "    \n",
        "    return response\n",
        "\n"
      ],
      "metadata": {
        "id": "ooNVFj8jn9XS"
      },
      "execution_count": 7,
      "outputs": []
    },
    {
      "cell_type": "code",
      "source": [
        "# Main function to handle the chatbot conversation\n",
        "def chat():\n",
        "    print(get_random_greeting())\n",
        "    print(\"I'm a movie recommendation chatbot. How can I assist you?\")\n",
        "    \n",
        "    while True:\n",
        "        user_input = input(\"User: \")\n",
        "        \n",
        "        # Check for exit keywords to end the conversation\n",
        "        if user_input.lower() in ['exit', 'bye', 'quit']:\n",
        "            print(\"Chatbot: Goodbye!\")\n",
        "            break\n",
        "        \n",
        "        response = process_user_input(user_input)\n",
        "        print(\"Chatbot:\", response)\n",
        "\n",
        "# Start the chatbot\n",
        "chat()"
      ],
      "metadata": {
        "colab": {
          "base_uri": "https://localhost:8080/"
        },
        "id": "RAsbX4rvoY40",
        "outputId": "b5f84ce6-278f-457d-8891-3933e6e12f2a"
      },
      "execution_count": null,
      "outputs": [
        {
          "output_type": "stream",
          "name": "stdout",
          "text": [
            "Hello!\n",
            "I'm a movie recommendation chatbot. How can I assist you?\n",
            "User: can you recommend action movies\n",
            "Chatbot: Here are some movie recommendations for you:\n",
            "\n",
            "Title: John Wick: Chapter 4\n",
            "Overview: With the price on his head ever increasing, John Wick uncovers a path to defeating The High Table. But before he can earn his freedom, Wick must face off against a new enemy with powerful alliances across the globe and forces that turn old friends into foes.\n",
            "\n",
            "Title: Fast X\n",
            "Overview: Over many missions and against impossible odds, Dom Toretto and his family have outsmarted, out-nerved and outdriven every foe in their path. Now, they confront the most lethal opponent they've ever faced: A terrifying threat emerging from the shadows of the past who's fueled by blood revenge, and who is determined to shatter this family and destroy everything—and everyone—that Dom loves, forever.\n",
            "\n",
            "Title: Sisu\n",
            "Overview: Deep in the wilderness of Lapland, Aatami Korpi is searching for gold but after he stumbles upon Nazi patrol, a breathtaking and gold-hungry chase through the destroyed and mined Lapland wilderness begins.\n",
            "\n",
            "Title: Ant-Man and the Wasp: Quantumania\n",
            "Overview: Super-Hero partners Scott Lang and Hope van Dyne, along with with Hope's parents Janet van Dyne and Hank Pym, and Scott's daughter Cassie Lang, find themselves exploring the Quantum Realm, interacting with strange new creatures and embarking on an adventure that will push them beyond the limits of what they thought possible.\n",
            "\n",
            "Title: The Mother\n",
            "Overview: A deadly female assassin comes out of hiding to protect the daughter that she gave up years before, while on the run from dangerous men.\n",
            "\n",
            "\n"
          ]
        }
      ]
    }
  ]
}