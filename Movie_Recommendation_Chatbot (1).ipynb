{
  "nbformat": 4,
  "nbformat_minor": 0,
  "metadata": {
    "colab": {
      "provenance": []
    },
    "kernelspec": {
      "name": "python3",
      "display_name": "Python 3"
    },
    "language_info": {
      "name": "python"
    }
  },
  "cells": [
    {
      "cell_type": "code",
      "source": [
        "#import libraries\n",
        "import random\n",
        "import requests\n",
        "import nltk\n",
        "from nltk.tokenize import word_tokenize"
      ],
      "metadata": {
        "id": "swdY4NhGnbv5"
      },
      "execution_count": 11,
      "outputs": []
    },
    {
      "cell_type": "code",
      "source": [
        "nltk.download('punkt')\n"
      ],
      "metadata": {
        "colab": {
          "base_uri": "https://localhost:8080/"
        },
        "id": "RcXVzj2QrSA6",
        "outputId": "e5ad02d3-2958-49bc-e134-a7854fcd8873"
      },
      "execution_count": 12,
      "outputs": [
        {
          "output_type": "stream",
          "name": "stderr",
          "text": [
            "[nltk_data] Downloading package punkt to /root/nltk_data...\n",
            "[nltk_data]   Package punkt is already up-to-date!\n"
          ]
        },
        {
          "output_type": "execute_result",
          "data": {
            "text/plain": [
              "True"
            ]
          },
          "metadata": {},
          "execution_count": 12
        }
      ]
    },
    {
      "cell_type": "code",
      "execution_count": 13,
      "metadata": {
        "id": "PQMwBtkml55Y"
      },
      "outputs": [],
      "source": [
        "#Fetches movie recommendations API\n",
        "def fetch_movie_recommendations(genre):\n",
        "    API_KEY = 'b44d2af21c89c0209da21eddff7d60e0'\n",
        "    url = f'https://api.themoviedb.org/3/discover/movie?api_key={API_KEY}&with_genres={genre}'\n",
        "    \n",
        "    response = requests.get(url)\n",
        "    if response.status_code == 200:\n",
        "        data = response.json()\n",
        "        movies = data['results']\n",
        "        return movies[:5]  # Returns the top 5 recommended movies\n",
        "    else:\n",
        "        return None\n"
      ]
    },
    {
      "cell_type": "code",
      "source": [
        "#Generate a random greeting \n",
        "def get_random_greeting():\n",
        "    greetings = ['Hi!', 'Hello!', 'Hey there!', 'Greetings!']\n",
        "    return random.choice(greetings)\n"
      ],
      "metadata": {
        "id": "XNqAYUmYn2rB"
      },
      "execution_count": 14,
      "outputs": []
    },
    {
      "cell_type": "code",
      "source": [
        "# Handles user input and provides movie recommendations\n",
        "def process_user_input(user_input):\n",
        "    # Tokenize user input\n",
        "    tokens = word_tokenize(user_input)\n",
        "    \n",
        "    # Perform NLP tasks based on tokens\n",
        "    # Example: Extract genre from user input\n",
        "    genre = extract_genre(tokens)\n",
        "    \n",
        "    if genre:\n",
        "        recommendations = fetch_movie_recommendations(genre)\n",
        "        \n",
        "        if recommendations:\n",
        "            response = \"Here are some movie recommendations for you:\\n\\n\"\n",
        "            for movie in recommendations:\n",
        "                title = movie['title']\n",
        "                overview = movie['overview']\n",
        "                response += f\"Title: {title}\\nOverview: {overview}\\n\\n\"\n",
        "        else:\n",
        "            response = \"Sorry, I couldn't fetch any movie recommendations at the moment.\"\n",
        "    else:\n",
        "        response = \"I'm sorry, but I couldn't understand your request.\"\n",
        "    \n",
        "    return response\n",
        "\n"
      ],
      "metadata": {
        "id": "ooNVFj8jn9XS"
      },
      "execution_count": 15,
      "outputs": []
    },
    {
      "cell_type": "code",
      "source": [
        "# Function to extract genre from tokens\n",
        "def extract_genre(tokens):\n",
        "    # Example: Look for keywords like 'action', 'comedy', 'drama', etc.\n",
        "    # Return the genre ID or None if genre not found\n",
        "    \n",
        "    # Placeholder implementation: Check for specific words in tokens\n",
        "    if 'action' in tokens:\n",
        "        return '28'  # Genre ID for action\n",
        "    elif 'comedy' in tokens:\n",
        "        return '35'  # Genre ID for comedy\n",
        "    elif 'drama' in tokens:\n",
        "        return '18'  # Genre ID for drama\n",
        "    else:\n",
        "        return None"
      ],
      "metadata": {
        "id": "S08_MjpOrpWn"
      },
      "execution_count": 16,
      "outputs": []
    },
    {
      "cell_type": "code",
      "source": [
        "# Main function to handle the chatbot conversation\n",
        "def chat():\n",
        "    print(get_random_greeting())\n",
        "    print(\"I'm a movie recommendation chatbot. How can I assist you?\")\n",
        "    \n",
        "    while True:\n",
        "        user_input = input(\"User: \")\n",
        "        \n",
        "        # Check for exit keywords to end the conversation\n",
        "        if user_input.lower() in ['exit', 'bye', 'quit']:\n",
        "            print(\"Chatbot: Goodbye!\")\n",
        "            break\n",
        "        \n",
        "        response = process_user_input(user_input)\n",
        "        print(\"Chatbot:\", response)\n",
        "\n",
        "# Start the chatbot\n",
        "chat()"
      ],
      "metadata": {
        "colab": {
          "base_uri": "https://localhost:8080/"
        },
        "id": "RAsbX4rvoY40",
        "outputId": "a497c4c5-f3bb-4a95-92b1-9598f6010b4d"
      },
      "execution_count": null,
      "outputs": [
        {
          "output_type": "stream",
          "name": "stdout",
          "text": [
            "Hi!\n",
            "I'm a movie recommendation chatbot. How can I assist you?\n",
            "User: can you recommend comedy movies\n",
            "Chatbot: Here are some movie recommendations for you:\n",
            "\n",
            "Title: The Super Mario Bros. Movie\n",
            "Overview: While working underground to fix a water main, Brooklyn plumbers—and brothers—Mario and Luigi are transported down a mysterious pipe and wander into a magical new world. But when the brothers are separated, Mario embarks on an epic quest to find Luigi.\n",
            "\n",
            "Title: Shazam! Fury of the Gods\n",
            "Overview: Billy Batson and his foster siblings, who transform into superheroes by saying \"Shazam!\", are forced to get back into action and fight the Daughters of Atlas, who they must stop from using a weapon that could destroy the world.\n",
            "\n",
            "Title: Ghosted\n",
            "Overview: Salt-of-the-earth Cole falls head over heels for enigmatic Sadie — but then makes the shocking discovery that she’s a secret agent. Before they can decide on a second date, Cole and Sadie are swept away on an international adventure to save the world.\n",
            "\n",
            "Title: Puss in Boots: The Last Wish\n",
            "Overview: Puss in Boots discovers that his passion for adventure has taken its toll: He has burned through eight of his nine lives, leaving him with only one life left. Puss sets out on an epic journey to find the mythical Last Wish and restore his nine lives.\n",
            "\n",
            "Title: Renfield\n",
            "Overview: Having grown sick and tired of his centuries as Dracula's lackey, Renfield finds a new lease on life — and maybe even redemption — when he falls for feisty, perennially angry traffic cop Rebecca Quincy.\n",
            "\n",
            "\n"
          ]
        }
      ]
    }
  ]
}